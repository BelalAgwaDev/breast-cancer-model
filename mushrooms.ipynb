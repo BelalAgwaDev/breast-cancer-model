{
  "nbformat": 4,
  "nbformat_minor": 0,
  "metadata": {
    "colab": {
      "name": "mushrooms.ipynb",
      "provenance": [],
      "authorship_tag": "ABX9TyMsRrc1MSyg8CrwjFdoYk0R",
      "include_colab_link": true
    },
    "kernelspec": {
      "name": "python3",
      "display_name": "Python 3"
    }
  },
  "cells": [
    {
      "cell_type": "markdown",
      "metadata": {
        "id": "view-in-github",
        "colab_type": "text"
      },
      "source": [
        "<a href=\"https://colab.research.google.com/github/BelalAgwaDev/breast-cancer-model/blob/main/mushrooms.ipynb\" target=\"_parent\"><img src=\"https://colab.research.google.com/assets/colab-badge.svg\" alt=\"Open In Colab\"/></a>"
      ]
    },
    {
      "cell_type": "markdown",
      "metadata": {
        "id": "LAzIOn7UUH4B"
      },
      "source": [
        "# **import library**"
      ]
    },
    {
      "cell_type": "code",
      "metadata": {
        "id": "epRYKsc0TzY8"
      },
      "source": [
        "import pickle\n",
        "import numpy as np\n",
        "import pandas as pd\n",
        "from sklearn import svm\n",
        "from sklearn.preprocessing import LabelEncoder\n",
        "from sklearn.model_selection import train_test_split\n",
        "np.random.seed(42)"
      ],
      "execution_count": 32,
      "outputs": []
    },
    {
      "cell_type": "markdown",
      "metadata": {
        "id": "a5OQ7ckjURAi"
      },
      "source": [
        "# **load data**"
      ]
    },
    {
      "cell_type": "code",
      "metadata": {
        "id": "3mt6yNeOT2mu"
      },
      "source": [
        "#load data\n",
        "load_data=pd.read_csv(r\"/content/mushrooms.csv\")"
      ],
      "execution_count": 33,
      "outputs": []
    },
    {
      "cell_type": "markdown",
      "metadata": {
        "id": "qZBF4RJrUcPz"
      },
      "source": [
        "#view sample data\n"
      ]
    },
    {
      "cell_type": "code",
      "metadata": {
        "id": "NAHdStCcUY1O"
      },
      "source": [
        "#print(load_data.head())"
      ],
      "execution_count": 34,
      "outputs": []
    },
    {
      "cell_type": "markdown",
      "metadata": {
        "id": "Gm7KwJTtU0tN"
      },
      "source": [
        "# **handel missing data**"
      ]
    },
    {
      "cell_type": "code",
      "metadata": {
        "id": "eqfEdgkGUbxL"
      },
      "source": [
        "#print(load_data.info())\n",
        "#print(load_data.isna())\n"
      ],
      "execution_count": 35,
      "outputs": []
    },
    {
      "cell_type": "markdown",
      "metadata": {
        "id": "vTtT68pSVF_9"
      },
      "source": [
        "# ** map labled data **"
      ]
    },
    {
      "cell_type": "code",
      "metadata": {
        "id": "r2wah3tmVBnM"
      },
      "source": [
        "X=load_data.drop('class',axis=1)\n",
        "y=load_data['class']"
      ],
      "execution_count": 36,
      "outputs": []
    },
    {
      "cell_type": "markdown",
      "metadata": {
        "id": "KH2oGfTuVknT"
      },
      "source": [
        "# **convert letters to numbers**"
      ]
    },
    {
      "cell_type": "code",
      "metadata": {
        "id": "yp3083bcV0tf"
      },
      "source": [
        "Encoder_x=LabelEncoder()\n",
        "for col in X.columns:\n",
        "    X[col]=Encoder_x.fit_transform(X[col])\n",
        "Encoder_y=LabelEncoder()\n",
        "y=Encoder_y.fit_transform(y)"
      ],
      "execution_count": 37,
      "outputs": []
    },
    {
      "cell_type": "markdown",
      "metadata": {
        "id": "YKxofxgHV3lm"
      },
      "source": [
        "#**split data to train \\ test**"
      ]
    },
    {
      "cell_type": "code",
      "metadata": {
        "id": "_7RJq4sPV9cG"
      },
      "source": [
        "x_train,x_test,y_train,y_test=train_test_split(X,y,test_size=0.2)"
      ],
      "execution_count": 38,
      "outputs": []
    },
    {
      "cell_type": "markdown",
      "metadata": {
        "id": "R4T1QWfoWJH8"
      },
      "source": [
        "#**choose model**\n",
        "\n"
      ]
    },
    {
      "cell_type": "code",
      "metadata": {
        "id": "Z_rN1aApV_tx"
      },
      "source": [
        "model=svm.SVC(C=1, gamma= 0.1, kernel='rbf')"
      ],
      "execution_count": 39,
      "outputs": []
    },
    {
      "cell_type": "markdown",
      "metadata": {
        "id": "gP_LmB1uWO5D"
      },
      "source": [
        "#**train model** "
      ]
    },
    {
      "cell_type": "code",
      "metadata": {
        "id": "a9txL9BxWyyC",
        "outputId": "d04860ee-1f16-47a4-b059-bf31c79167d4",
        "colab": {
          "base_uri": "https://localhost:8080/"
        }
      },
      "source": [
        "model.fit(x_train,y_train)"
      ],
      "execution_count": 40,
      "outputs": [
        {
          "output_type": "execute_result",
          "data": {
            "text/plain": [
              "SVC(C=1, break_ties=False, cache_size=200, class_weight=None, coef0=0.0,\n",
              "    decision_function_shape='ovr', degree=3, gamma=0.1, kernel='rbf',\n",
              "    max_iter=-1, probability=False, random_state=None, shrinking=True,\n",
              "    tol=0.001, verbose=False)"
            ]
          },
          "metadata": {
            "tags": []
          },
          "execution_count": 40
        }
      ]
    },
    {
      "cell_type": "markdown",
      "metadata": {
        "id": "OByfqosvW76e"
      },
      "source": [
        "# **tune model parms**"
      ]
    },
    {
      "cell_type": "code",
      "metadata": {
        "id": "9I93qrR7W3h6",
        "outputId": "6b3305c0-830b-422e-b5eb-aaf788dbd1e1",
        "colab": {
          "base_uri": "https://localhost:8080/",
          "height": 53
        }
      },
      "source": [
        "\"\"\"\n",
        "from sklearn.model_selection import GridSearchCV\n",
        "prams={\"kernel\":(\"linear\",\"rbf\"), \"C\":[1,5,10], \"gamma\":[1,0.1,0.01,0.001]}\n",
        "grid=GridSearchCV(svm.SVC(),prams,verbose=3)\n",
        "grid.fit(x_train,y_train)\n",
        "\"\"\""
      ],
      "execution_count": 41,
      "outputs": [
        {
          "output_type": "execute_result",
          "data": {
            "application/vnd.google.colaboratory.intrinsic+json": {
              "type": "string"
            },
            "text/plain": [
              "'\\nfrom sklearn.model_selection import GridSearchCV\\nprams={\"kernel\":(\"linear\",\"rbf\"), \"C\":[1,5,10], \"gamma\":[1,0.1,0.01,0.001]}\\ngrid=GridSearchCV(svm.SVC(),prams,verbose=3)\\ngrid.fit(x_train,y_train)\\n'"
            ]
          },
          "metadata": {
            "tags": []
          },
          "execution_count": 41
        }
      ]
    },
    {
      "cell_type": "code",
      "metadata": {
        "id": "Bz5GF38Oal4S"
      },
      "source": [
        "#print(grid.best_params_)\n",
        "#print(grid.best_score_)"
      ],
      "execution_count": 42,
      "outputs": []
    },
    {
      "cell_type": "markdown",
      "metadata": {
        "id": "Oo-CAHCrbzTW"
      },
      "source": [
        "# **validate modle**"
      ]
    },
    {
      "cell_type": "code",
      "metadata": {
        "id": "SLFF_w0gbw3c",
        "outputId": "55d91a69-1a0a-4d18-c413-bca193884036",
        "colab": {
          "base_uri": "https://localhost:8080/"
        }
      },
      "source": [
        "print(model.score(x_train , y_train))\n",
        "print(model.score(x_test , y_test))"
      ],
      "execution_count": 43,
      "outputs": [
        {
          "output_type": "stream",
          "text": [
            "1.0\n",
            "1.0\n"
          ],
          "name": "stdout"
        }
      ]
    },
    {
      "cell_type": "markdown",
      "metadata": {
        "id": "DozjQGhXcGyF"
      },
      "source": [
        "#**save model** \n"
      ]
    },
    {
      "cell_type": "code",
      "metadata": {
        "id": "CXT3ilUZb3er"
      },
      "source": [
        "pickle.dump(model , open(r\"mushrooms.pkl\",\"wb\"))"
      ],
      "execution_count": 44,
      "outputs": []
    }
  ]
}